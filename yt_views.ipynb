{
 "cells": [
  {
   "cell_type": "markdown",
   "metadata": {},
   "source": [
    "# YouTube subscribers and views relation"
   ]
  },
  {
   "cell_type": "code",
   "execution_count": null,
   "metadata": {},
   "outputs": [],
   "source": [
    "# read API key\n",
    "with open('.g_api_key') as f:\n",
    "    api_key = f.readline()[:-1]"
   ]
  },
  {
   "cell_type": "code",
   "execution_count": null,
   "metadata": {},
   "outputs": [],
   "source": [
    "import requests\n",
    "headers = {'Referer': \"http://localhost:8888\"}\n",
    "\n",
    "import json"
   ]
  },
  {
   "cell_type": "markdown",
   "metadata": {},
   "source": [
    "## Collect data"
   ]
  },
  {
   "cell_type": "markdown",
   "metadata": {},
   "source": [
    "### Channels info"
   ]
  },
  {
   "cell_type": "markdown",
   "metadata": {},
   "source": [
    "- channel titile\n",
    "- stats for channel:\n",
    "    - subscribers\n",
    "    - total views \n",
    "    - videos count\n",
    "- uplodas playlist ID"
   ]
  },
  {
   "cell_type": "code",
   "execution_count": null,
   "metadata": {},
   "outputs": [],
   "source": [
    "# read channels from file\n",
    "with open('channels.json', 'r') as f:\n",
    "    channel_ids = json.load(f)"
   ]
  },
  {
   "cell_type": "code",
   "execution_count": null,
   "metadata": {},
   "outputs": [],
   "source": [
    "# select channel IDs \n",
    "ids_array = channel_ids['ids']\n",
    "len(ids_array)"
   ]
  },
  {
   "cell_type": "code",
   "execution_count": null,
   "metadata": {},
   "outputs": [],
   "source": [
    "def get_channels_data(ids):\n",
    "    ids = ','.join(str(id) for id in ids)\n",
    "    parts = \"snippet,contentDetails,statistics\"\n",
    "    url = \"https://www.googleapis.com/youtube/v3/channels?part=\" + parts + \"&id=\" + ids + \"&key=\" + api_key\n",
    "    response = requests.get(url, headers=headers)\n",
    "#     print(response)\n",
    "    resp_body = json.loads(response.text)\n",
    "    items = resp_body['items']\n",
    "    return items"
   ]
  },
  {
   "cell_type": "code",
   "execution_count": null,
   "metadata": {},
   "outputs": [],
   "source": [
    "channels_data = []\n",
    "\n",
    "# split IDs to chunks of 50 to pass request length limit\n",
    "chunks, chunk_size = len(ids_array), 50\n",
    "\n",
    "# get channels data for chunk of IDs at once\n",
    "for chunk in [ids_array[i:i+chunk_size] for i in range(0, chunks, chunk_size)]:\n",
    "    stats = get_channels_data(chunk)\n",
    "    print(len(stats))\n",
    "    channels_data.extend(stats)\n",
    "len(channels_data)"
   ]
  },
  {
   "cell_type": "code",
   "execution_count": null,
   "metadata": {},
   "outputs": [],
   "source": [
    "# sample channel\n",
    "# channels_data[0]"
   ]
  },
  {
   "cell_type": "markdown",
   "metadata": {},
   "source": [
    "### Videos info"
   ]
  },
  {
   "cell_type": "markdown",
   "metadata": {},
   "source": [
    "Get list of videos (uploads) by passing playlist ID, in this case — list of uploads"
   ]
  },
  {
   "cell_type": "code",
   "execution_count": null,
   "metadata": {},
   "outputs": [],
   "source": [
    "# sample ID\n",
    "# channels_data[0]['contentDetails']['relatedPlaylists']['uploads']"
   ]
  },
  {
   "cell_type": "code",
   "execution_count": null,
   "metadata": {},
   "outputs": [],
   "source": [
    "def get_channel_uploads(list_id):\n",
    "    parts = \"contentDetails\"\n",
    "    url = \"https://www.googleapis.com/youtube/v3/playlistItems?part=\" + parts + \"&playlistId=\" + list_id + \"&key=\" + api_key\n",
    "    response = requests.get(url, headers=headers)\n",
    "    resp_body = json.loads(response.text)\n",
    "    items = resp_body['items']\n",
    "    return items"
   ]
  },
  {
   "cell_type": "code",
   "execution_count": null,
   "metadata": {},
   "outputs": [],
   "source": [
    "# only one list ID per request is allowed\n",
    "i = 0\n",
    "for channel in channels_data:\n",
    "    i += 1\n",
    "    list_id = channel['contentDetails']['relatedPlaylists']['uploads']\n",
    "    uploads = get_channel_uploads(list_id)\n",
    "    channel['uploads'] = uploads\n",
    "    print(i, \"/\", len(channels_data), end=\"\\r\")"
   ]
  },
  {
   "cell_type": "code",
   "execution_count": null,
   "metadata": {},
   "outputs": [],
   "source": [
    "# sample list of uploads\n",
    "# channels_data[0]['uploads']"
   ]
  },
  {
   "cell_type": "code",
   "execution_count": null,
   "metadata": {},
   "outputs": [],
   "source": [
    "# keys of channel object\n",
    "# channels_data[0].keys()"
   ]
  },
  {
   "cell_type": "markdown",
   "metadata": {},
   "source": [
    "#### Stats"
   ]
  },
  {
   "cell_type": "markdown",
   "metadata": {},
   "source": [
    "Request stats for every video by respective ID to calculate stats"
   ]
  },
  {
   "cell_type": "code",
   "execution_count": null,
   "metadata": {},
   "outputs": [],
   "source": [
    "def get_videos_info(ids):\n",
    "    ids = ','.join(str(id) for id in ids)\n",
    "    parts = \"statistics\"\n",
    "    url = \"https://www.googleapis.com/youtube/v3/videos?part=\" + parts + \"&id=\" + ids + \"&key=\" + api_key\n",
    "    response = requests.get(url, headers=headers)\n",
    "    resp_body = json.loads(response.text)\n",
    "    items = resp_body['items']\n",
    "    return items"
   ]
  },
  {
   "cell_type": "code",
   "execution_count": null,
   "metadata": {},
   "outputs": [],
   "source": [
    "i = 0\n",
    "for channel in channels_data:\n",
    "    i += 1\n",
    "    ids = []\n",
    "    for list_item in channel['uploads'][1:]: # discard last video, it can be very fresh\n",
    "        id = list_item['contentDetails']['videoId']\n",
    "        ids.append(id)\n",
    "    videos = get_videos_info(ids)\n",
    "    channel['uploads_info'] = videos\n",
    "    print(i, \"/\", len(channels_data), end=\"\\r\")"
   ]
  },
  {
   "cell_type": "code",
   "execution_count": null,
   "metadata": {},
   "outputs": [],
   "source": [
    "# sample video stats\n",
    "# channels_data[0]['uploads_info']"
   ]
  },
  {
   "cell_type": "markdown",
   "metadata": {},
   "source": [
    "## Prepare data"
   ]
  },
  {
   "cell_type": "markdown",
   "metadata": {},
   "source": [
    "- channel titile\n",
    "- stats for channel:\n",
    "    - subscribers\n",
    "    - total views \n",
    "    - videos count\n",
    "    - average views for last 4 videos (except last one):"
   ]
  },
  {
   "cell_type": "code",
   "execution_count": null,
   "metadata": {},
   "outputs": [],
   "source": [
    "data = []\n",
    "i = 0\n",
    "for channel in channels_data:\n",
    "    channel_data = {}\n",
    "    channel_data['id'] = channel['id']\n",
    "    channel_data['title'] = channel['snippet']['title']\n",
    "    channel_data['subscribers'] = int(channel['statistics']['subscriberCount'])\n",
    "    channel_data['total_views'] = int(channel['statistics']['viewCount'])\n",
    "    channel_data['total_videos'] = int(channel['statistics']['videoCount'])\n",
    "    \n",
    "    last_views = 0\n",
    "    for upload in channel['uploads_info']:\n",
    "        if 'viewCount' not in upload['statistics']:\n",
    "            last_views = 0\n",
    "            break\n",
    "        else:\n",
    "            last_views += int(upload['statistics']['viewCount'])    \n",
    "        \n",
    "    if last_views > 0 and channel_data['subscribers'] > 0:\n",
    "        # filter out channels with missing stats\n",
    "        channel_data['last_views'] = int(last_views)/4\n",
    "        data.append(channel_data)\n",
    "    i += 1\n",
    "    print(\"\\r\", i, \"/\", len(channels_data), end=\"\")\n",
    "print(\" =>\", len(data))"
   ]
  },
  {
   "cell_type": "markdown",
   "metadata": {},
   "source": [
    "### Save data to file"
   ]
  },
  {
   "cell_type": "code",
   "execution_count": null,
   "metadata": {},
   "outputs": [],
   "source": [
    "with open('data.json', 'w+') as f:\n",
    "        json.dump(data, f)"
   ]
  },
  {
   "cell_type": "markdown",
   "metadata": {},
   "source": [
    "### Load data from file"
   ]
  },
  {
   "cell_type": "code",
   "execution_count": null,
   "metadata": {},
   "outputs": [],
   "source": [
    "with open('data.json', 'r') as f:\n",
    "    data = json.load(f)"
   ]
  },
  {
   "cell_type": "markdown",
   "metadata": {},
   "source": [
    "## Solution"
   ]
  },
  {
   "cell_type": "code",
   "execution_count": null,
   "metadata": {},
   "outputs": [],
   "source": [
    "import pandas as pd\n",
    "import matplotlib\n",
    "import matplotlib.pyplot as plt"
   ]
  },
  {
   "cell_type": "code",
   "execution_count": null,
   "metadata": {},
   "outputs": [],
   "source": [
    "data_df = pd.DataFrame(data)"
   ]
  },
  {
   "cell_type": "markdown",
   "metadata": {},
   "source": [
    "Calculate additional values"
   ]
  },
  {
   "cell_type": "code",
   "execution_count": null,
   "metadata": {},
   "outputs": [],
   "source": [
    "data_df['views_to_subs'] = data_df['last_views']/data_df['subscribers']\n",
    "\n",
    "data_df['avrg_views_video'] = data_df['total_views']/data_df['total_videos']\n",
    "data_df['virality'] = data_df['avrg_views_video']/data_df['subscribers']"
   ]
  },
  {
   "cell_type": "code",
   "execution_count": null,
   "metadata": {},
   "outputs": [],
   "source": [
    "to_plot = data_df.sort_values(by='subscribers',ignore_index=True)\n",
    "to_plot['index'] = to_plot.index.values"
   ]
  },
  {
   "cell_type": "code",
   "execution_count": null,
   "metadata": {
    "scrolled": false
   },
   "outputs": [],
   "source": [
    "# fix base style\n",
    "plt.rcParams.update({\n",
    "    'font.size': 15,\n",
    "    'axes.labelpad': 20,\n",
    "    'axes.titlepad': 40.0,\n",
    "    'axes.titleweight': 'bold',   \n",
    "})\n",
    "views_color = \"b\"\n",
    "\n",
    "# SET PLOT\n",
    "# create\n",
    "fig, ax1 = plt.subplots()\n",
    "\n",
    "# set size in inches\n",
    "fig.set_size_inches(11,7)\n",
    "\n",
    "# share x axis\n",
    "ax2 = ax1.twinx()\n",
    "ax3 = ax1.twinx()\n",
    "\n",
    "# show right spine of 3rd chart\n",
    "ax3.spines['right'].set_position(('axes', 1.2))\n",
    "\n",
    "\n",
    "# DRAW CHARTS\n",
    "# draw Last views\n",
    "p1 = ax1.scatter(\n",
    "        x=to_plot['index'],\n",
    "        y=to_plot['last_views'],\n",
    "        color=views_color,\n",
    "        s=60+(to_plot['virality']/to_plot['virality'].max())*100000, \n",
    "        alpha=0.7, \n",
    "        edgecolors=None\n",
    "    )\n",
    "\n",
    "# draw Subscribers\n",
    "p2, = ax2.plot(to_plot['subscribers'], \"go\")\n",
    "\n",
    "# draw Views to subscribers relation\n",
    "p3, = ax3.plot(to_plot[to_plot['views_to_subs']<1]['views_to_subs'], 'r.')\n",
    "\n",
    "\n",
    "# ADD LINES\n",
    "# show median views to subscription relation\n",
    "ax3.hlines(y=to_plot['views_to_subs'].median(), xmin=0, xmax=to_plot['index'].max(), linewidth=1, color='r')\n",
    "\n",
    "# show channel with 1–500K subscribers\n",
    "key_ammounts = []\n",
    "for subs in [1000, 5000, 10000, 50000, 100000, 200000, 500000]:\n",
    "    channels = to_plot[to_plot['subscribers']>subs]['subscribers']\n",
    "    lowest_id = channels.index[0]\n",
    "    ax2.vlines(x=lowest_id, ymin=0, ymax=to_plot['subscribers'].max(), linewidth=1, color='g')\n",
    "    key_ammounts.append(channels[lowest_id])\n",
    "\n",
    "\n",
    "# DESCRIBE CHARTS\n",
    "# limit Y axis and restore margin (ylim drops it)\n",
    "views_lim = 1000\n",
    "ymargin = plt.rcParams['axes.ymargin']\n",
    "ymin = -1*views_lim*ymargin\n",
    "ymax = views_lim*(1+ymargin)\n",
    "ylim = (ymin,ymax)\n",
    "\n",
    "# add chart labels\n",
    "ax1.set(\n",
    "        title=\"Relation of YouTube subscribers and views\",\n",
    "        xlabel='Channels, sorted by subscribtions (vertical lines: \\n' + ', '.join(str(subs) for subs in key_ammounts) + ' subscribers)',\n",
    "        ylabel='Last views (<1000, size: channel virality)',\n",
    "        ylim=ylim,\n",
    "       )\n",
    "ax2.set_ylabel('Subscribers')\n",
    "ax3.set_ylabel('Last views/subscribers \\n(<1, views less than subscribers; \\nhorizontal line: overal median)')\n",
    "\n",
    "\n",
    "# STYLE\n",
    "ax1.yaxis.label.set_color(views_color)\n",
    "ax2.yaxis.label.set_color(p2.get_color())\n",
    "ax3.yaxis.label.set_color(p3.get_color())\n",
    "\n",
    "tkw = dict(size=5, width=1.5)\n",
    "ax1.tick_params(axis='y', colors=views_color, **tkw)\n",
    "ax2.tick_params(axis='y', colors=p2.get_color(), **tkw)\n",
    "ax3.tick_params(axis='y', colors=p3.get_color(), **tkw)\n",
    "ax1.tick_params(axis='x', **tkw)\n",
    "\n",
    "\n",
    "# EXPORT FILE\n",
    "fig.savefig(pad_inches=True, bbox_inches='tight', fname=\"yt-views-chart.png\")"
   ]
  },
  {
   "cell_type": "code",
   "execution_count": null,
   "metadata": {},
   "outputs": [],
   "source": [
    "# show growth of views/subscribers relation\n",
    "fig, ax1 = plt.subplots()\n",
    "fig.set_size_inches(11,7)\n",
    "ax2 = ax1.twinx()\n",
    "\n",
    "p1, = ax1.plot(to_plot['views_to_subs'].cumsum(), 'bo--')\n",
    "p2, = ax2.plot(to_plot['subscribers'], 'ro--')\n",
    "\n",
    "ax1.set_title(\"Growth of views/subscribers ratio\")\n",
    "ax1.set_ylabel('Views/subscribers cumulative sum', color=\"b\")\n",
    "ax2.set_ylabel('Subscribers', color=\"r\")\n",
    "ax1.tick_params(axis='y', colors='b')\n",
    "ax2.tick_params(axis='y', colors='r')\n",
    "ax2.set_ylim(0-10000*plt.rcParams['axes.ymargin'],10000*(1+plt.rcParams['axes.ymargin']))\n",
    "ax1.grid(True, axis='y')\n",
    "\n",
    "fig.savefig(pad_inches=True, bbox_inches='tight', fname=\"yt-views-to-subs-cumsum-chart.png\")"
   ]
  },
  {
   "cell_type": "code",
   "execution_count": null,
   "metadata": {},
   "outputs": [],
   "source": []
  }
 ],
 "metadata": {
  "kernelspec": {
   "display_name": "Python 3",
   "language": "python",
   "name": "python3"
  },
  "language_info": {
   "codemirror_mode": {
    "name": "ipython",
    "version": 3
   },
   "file_extension": ".py",
   "mimetype": "text/x-python",
   "name": "python",
   "nbconvert_exporter": "python",
   "pygments_lexer": "ipython3",
   "version": "3.7.4"
  }
 },
 "nbformat": 4,
 "nbformat_minor": 2
}
